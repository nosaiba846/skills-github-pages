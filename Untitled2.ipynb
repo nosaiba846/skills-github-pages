{
  "nbformat": 4,
  "nbformat_minor": 0,
  "metadata": {
    "colab": {
      "provenance": [],
      "toc_visible": true,
      "authorship_tag": "ABX9TyPhWcJ5CJA2NE7gK0IUqFmq",
      "include_colab_link": true
    },
    "kernelspec": {
      "name": "python3",
      "display_name": "Python 3"
    },
    "language_info": {
      "name": "python"
    }
  },
  "cells": [
    {
      "cell_type": "markdown",
      "metadata": {
        "id": "view-in-github",
        "colab_type": "text"
      },
      "source": [
        "<a href=\"https://colab.research.google.com/github/nosaiba846/skills-github-pages/blob/main/Untitled2.ipynb\" target=\"_parent\"><img src=\"https://colab.research.google.com/assets/colab-badge.svg\" alt=\"Open In Colab\"/></a>"
      ]
    },
    {
      "cell_type": "code",
      "execution_count": 1,
      "metadata": {
        "colab": {
          "base_uri": "https://localhost:8080/",
          "height": 106
        },
        "id": "Z5VqqsaW1rcd",
        "outputId": "a2e8d9f9-fbc4-4313-97c5-0d8a046f61dc"
      },
      "outputs": [
        {
          "output_type": "error",
          "ename": "SyntaxError",
          "evalue": "invalid syntax (<ipython-input-1-d3aed5337d98>, line 5)",
          "traceback": [
            "\u001b[0;36m  File \u001b[0;32m\"<ipython-input-1-d3aed5337d98>\"\u001b[0;36m, line \u001b[0;32m5\u001b[0m\n\u001b[0;31m    def_calclate_bonus(self):\u001b[0m\n\u001b[0m                            ^\u001b[0m\n\u001b[0;31mSyntaxError\u001b[0m\u001b[0;31m:\u001b[0m invalid syntax\n"
          ]
        }
      ],
      "source": [
        "from os import name\n",
        "def__init__(self, name , salary)\n",
        "from os import name\n",
        "def __init__(self, name , salary):\n",
        "  self.name = name\n",
        "  self._salary = salary\n",
        "def _calclate_bonus(self):\n",
        "  return self._salary"
      ]
    },
    {
      "cell_type": "markdown",
      "source": [
        "# New Section"
      ],
      "metadata": {
        "id": "9ufiXcmu5lb-"
      }
    }
  ]
}